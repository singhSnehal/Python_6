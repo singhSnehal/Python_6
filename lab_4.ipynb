{
 "cells": [
  {
   "cell_type": "code",
   "execution_count": 1,
   "id": "c3dd59b8",
   "metadata": {},
   "outputs": [
    {
     "name": "stdout",
     "output_type": "stream",
     "text": [
      "Enter n: 9\n",
      "Enter m: 4\n",
      "\n",
      "4 and Number is Even\n",
      "8 and Number is Even\n"
     ]
    }
   ],
   "source": [
    "# Print integer 1 to n divisible by m and tell the number which is divisible by m is even or odd.\n",
    "\n",
    "n= int(input(\"Enter n: \"))\n",
    "m=int(input(\"Enter m: \"))\n",
    "\n",
    "print()\n",
    "for i in range(1,n):\n",
    "    if (i%m==0):\n",
    "        print(i,end=\" and \")\n",
    "        if(i%2==0):\n",
    "            print(\"Number is Even\")\n",
    "        else:\n",
    "            print(\"Number is Odd\")"
   ]
  },
  {
   "cell_type": "code",
   "execution_count": 5,
   "id": "e2a220e7",
   "metadata": {},
   "outputs": [
    {
     "name": "stdout",
     "output_type": "stream",
     "text": [
      "5 2 3\n",
      "[5, 2, 3]\n",
      "5\n"
     ]
    }
   ],
   "source": [
    "# Find largest number of list of numbers entered at runtime\n",
    "\n",
    "l = list(map(int,input().strip().split()))\n",
    "\n",
    "print(l)\n",
    "print(max(l))"
   ]
  },
  {
   "cell_type": "code",
   "execution_count": 6,
   "id": "c6c33eba",
   "metadata": {},
   "outputs": [
    {
     "name": "stdout",
     "output_type": "stream",
     "text": [
      "6\n",
      "250379\n"
     ]
    }
   ],
   "source": [
    "# Write a function that takes a number n and then returns a randomly genrated number having exactly n digits.\n",
    "\n",
    "import random\n",
    "def fun(n):\n",
    "    if(n==0):\n",
    "        return 0\n",
    "    r= random.randint(10**(n-1),(10**n - 1))\n",
    "    return r\n",
    "\n",
    "\n",
    "n= int(input())\n",
    "\n",
    "print(fun(n))"
   ]
  }
 ],
 "metadata": {
  "kernelspec": {
   "display_name": "Python 3 (ipykernel)",
   "language": "python",
   "name": "python3"
  },
  "language_info": {
   "codemirror_mode": {
    "name": "ipython",
    "version": 3
   },
   "file_extension": ".py",
   "mimetype": "text/x-python",
   "name": "python",
   "nbconvert_exporter": "python",
   "pygments_lexer": "ipython3",
   "version": "3.9.6"
  }
 },
 "nbformat": 4,
 "nbformat_minor": 5
}
