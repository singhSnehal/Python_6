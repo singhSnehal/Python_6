{
 "cells": [
  {
   "cell_type": "code",
   "execution_count": 1,
   "id": "a319dee8",
   "metadata": {},
   "outputs": [
    {
     "name": "stdout",
     "output_type": "stream",
     "text": [
      "Enter 1st number10\n",
      "Enter 2nd number20\n",
      "Sum =  30\n"
     ]
    }
   ],
   "source": [
    "# ADD 2 NUMBERS\n",
    "n1 = int(input(\"Enter 1st number\"))\n",
    "n2 = int(input(\"Enter 2nd number\"))\n",
    "sum = n1 + n2\n",
    "print(\"Sum = \",sum)"
   ]
  },
  {
   "cell_type": "code",
   "execution_count": 2,
   "id": "483cf8d4",
   "metadata": {},
   "outputs": [
    {
     "name": "stdout",
     "output_type": "stream",
     "text": [
      "Enter 1st number5\n",
      "Enter 2nd number3\n",
      "Remainder =  2\n"
     ]
    }
   ],
   "source": [
    "# FIND REMAINDERS\n",
    "n1 = int(input(\"Enter 1st number\"))\n",
    "n2 = int(input(\"Enter 2nd number\"))\n",
    "r = n1 % n2\n",
    "print(\"Remainder = \",r)"
   ]
  },
  {
   "cell_type": "code",
   "execution_count": 3,
   "id": "28426d36",
   "metadata": {},
   "outputs": [
    {
     "name": "stdout",
     "output_type": "stream",
     "text": [
      "Enter a number45678163\n",
      "sum of  4  and  3  is :  7\n"
     ]
    }
   ],
   "source": [
    "# SUM OF FIRST AND LAST DIGIT OF A n-digit NUMBER \n",
    "n = int(input(\"Enter a number\"))\n",
    "num = str(n)\n",
    "first = int(num[0])\n",
    "last = int(num[-1])\n",
    "sum = first + last\n",
    "print(\"sum of \",first,\" and \",last,\" is : \",sum)"
   ]
  }
 ],
 "metadata": {
  "kernelspec": {
   "display_name": "Python 3 (ipykernel)",
   "language": "python",
   "name": "python3"
  },
  "language_info": {
   "codemirror_mode": {
    "name": "ipython",
    "version": 3
   },
   "file_extension": ".py",
   "mimetype": "text/x-python",
   "name": "python",
   "nbconvert_exporter": "python",
   "pygments_lexer": "ipython3",
   "version": "3.9.6"
  }
 },
 "nbformat": 4,
 "nbformat_minor": 5
}
