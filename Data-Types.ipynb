{
 "cells": [
  {
   "cell_type": "code",
   "execution_count": 1,
   "id": "ad845056",
   "metadata": {},
   "outputs": [
    {
     "name": "stdout",
     "output_type": "stream",
     "text": [
      "a is of type  <class 'int'>\n"
     ]
    }
   ],
   "source": [
    "#use of all data typyes\n",
    "\n",
    "# NUMBERIC TYPES\n",
    "# 1. int\n",
    "a = 10\n",
    "print(\"a is of type \",type(a))"
   ]
  },
  {
   "cell_type": "code",
   "execution_count": 2,
   "id": "798976a9",
   "metadata": {},
   "outputs": [
    {
     "name": "stdout",
     "output_type": "stream",
     "text": [
      "a is of type <class 'float'>\n"
     ]
    }
   ],
   "source": [
    "# 2. float\n",
    "a = 1.0\n",
    "print(\"a is of type\",type(a))"
   ]
  },
  {
   "cell_type": "code",
   "execution_count": 3,
   "id": "470503ce",
   "metadata": {},
   "outputs": [
    {
     "name": "stdout",
     "output_type": "stream",
     "text": [
      "a is of type <class 'complex'>\n"
     ]
    }
   ],
   "source": [
    "# 3. complex\n",
    "a = 1+2j\n",
    "print(\"a is of type\",type(a))"
   ]
  },
  {
   "cell_type": "code",
   "execution_count": 4,
   "id": "90551fe9",
   "metadata": {},
   "outputs": [
    {
     "name": "stdout",
     "output_type": "stream",
     "text": [
      "a is of type <class 'list'>\n"
     ]
    }
   ],
   "source": [
    "# SEQUENCE TYPES\n",
    "# 1. list\n",
    "a = [1,2,3,4,5]\n",
    "print(\"a is of type\",type(a))"
   ]
  },
  {
   "cell_type": "code",
   "execution_count": 5,
   "id": "6bd93ee4",
   "metadata": {},
   "outputs": [
    {
     "name": "stdout",
     "output_type": "stream",
     "text": [
      "a is of type <class 'tuple'>\n"
     ]
    }
   ],
   "source": [
    "# 2. tuple\n",
    "a = (1,2,3,4,5)\n",
    "print(\"a is of type\",type(a))"
   ]
  },
  {
   "cell_type": "code",
   "execution_count": 6,
   "id": "ad2dcecb",
   "metadata": {},
   "outputs": [
    {
     "name": "stdout",
     "output_type": "stream",
     "text": [
      "a is of type <class 'set'>\n"
     ]
    }
   ],
   "source": [
    "# MAPPING TYPES\n",
    "# sets\n",
    "a = {1,2,3,4,5}\n",
    "print(\"a is of type\",type(a))"
   ]
  },
  {
   "cell_type": "code",
   "execution_count": 7,
   "id": "96120b89",
   "metadata": {},
   "outputs": [
    {
     "name": "stdout",
     "output_type": "stream",
     "text": [
      "a is of type <class 'str'>\n"
     ]
    }
   ],
   "source": [
    "# TEXT TYPES\n",
    "# string\n",
    "a = 'SNEHAL'\n",
    "print(\"a is of type\",type(a))"
   ]
  },
  {
   "cell_type": "code",
   "execution_count": 8,
   "id": "738f5c0c",
   "metadata": {},
   "outputs": [
    {
     "name": "stdout",
     "output_type": "stream",
     "text": [
      "True\n",
      "a is of type <class 'bool'>\n"
     ]
    }
   ],
   "source": [
    "# BOOLEAN TYPES\n",
    "a = bool(3)\n",
    "print(a)\n",
    "print(\"a is of type\",type(a))"
   ]
  }
 ],
 "metadata": {
  "kernelspec": {
   "display_name": "Python 3 (ipykernel)",
   "language": "python",
   "name": "python3"
  },
  "language_info": {
   "codemirror_mode": {
    "name": "ipython",
    "version": 3
   },
   "file_extension": ".py",
   "mimetype": "text/x-python",
   "name": "python",
   "nbconvert_exporter": "python",
   "pygments_lexer": "ipython3",
   "version": "3.9.6"
  }
 },
 "nbformat": 4,
 "nbformat_minor": 5
}
