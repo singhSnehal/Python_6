{
 "cells": [
  {
   "cell_type": "code",
   "execution_count": 1,
   "id": "58a0bfcf",
   "metadata": {},
   "outputs": [
    {
     "name": "stdout",
     "output_type": "stream",
     "text": [
      "Enter 1st number: 4\n",
      "Enter 2nd number: 3\n",
      "Enter 3rd number: 2\n",
      "Second max number is  3\n"
     ]
    }
   ],
   "source": [
    "# Second max of 3 numbers\n",
    "\n",
    "a,b,c=int(input(\"Enter 1st number: \")),int(input(\"Enter 2nd number: \")),int(input(\"Enter 3rd number: \"))\n",
    "if (a<=b and a>=c) or (a<=c and a>=b):\n",
    "    print(\"Second max number is \",a)\n",
    "elif (b<=a and b>=c) or (b<=c and b>=a):\n",
    "    print(\"Second max number is \",b)\n",
    "elif (c<=b and c>=a) or (c<=a and c>=b):\n",
    "    print(\"Second max number is \",c)"
   ]
  },
  {
   "cell_type": "code",
   "execution_count": 3,
   "id": "c8d6ac12",
   "metadata": {},
   "outputs": [
    {
     "name": "stdout",
     "output_type": "stream",
     "text": [
      "Enter the number of Soldiers : 3\n",
      "11 26 34\n",
      "READY FOR BATTLE\n"
     ]
    }
   ],
   "source": [
    "# Mahasena\n",
    "N = int(input(\"Enter the number of Soldiers : \"))\n",
    "A = list(map(int, input().split()))[:N]\n",
    "even,odd = 0,0\n",
    "for i in A:\n",
    "    if i % 2 == 0:\n",
    "        even += 1\n",
    "    else:\n",
    "        odd += 1\n",
    "if even > odd:\n",
    "    print(\"READY FOR BATTLE\")\n",
    "else:\n",
    "    print(\"NOT READY\")"
   ]
  },
  {
   "cell_type": "code",
   "execution_count": 4,
   "id": "0ba9fae0",
   "metadata": {},
   "outputs": [
    {
     "name": "stdout",
     "output_type": "stream",
     "text": [
      "31536000\n"
     ]
    }
   ],
   "source": [
    "# Total seconds in a year\n",
    "days=365\n",
    "hours=24\n",
    "minutes=60\n",
    "seconds=60\n",
    "ans=days*hours*minutes*seconds\n",
    "print(ans)"
   ]
  },
  {
   "cell_type": "code",
   "execution_count": 5,
   "id": "dd6923cd",
   "metadata": {},
   "outputs": [
    {
     "name": "stdout",
     "output_type": "stream",
     "text": [
      "Enter date in MMDDYYYY format: 01202002\n",
      "January 20, 2002\n"
     ]
    }
   ],
   "source": [
    "# mm::dd::yyyy\n",
    "months = [\"January\", \"February\", \"March\", \"April\", \"May\", \"June\",\n",
    "\"July\", \"August\", \"September\", \"October\", \"November\", \"December\"]\n",
    "\n",
    "dateStr = input(\"Enter date in MMDDYYYY format: \")\n",
    "monthIndex = int(dateStr[:2]) - 1\n",
    "month = months[monthIndex]\n",
    "day = dateStr[2:4]\n",
    "year = dateStr[4:]\n",
    "\n",
    "newDateStr = month + ' ' + day + ', ' + year\n",
    "print(newDateStr)"
   ]
  }
 ],
 "metadata": {
  "kernelspec": {
   "display_name": "Python 3 (ipykernel)",
   "language": "python",
   "name": "python3"
  },
  "language_info": {
   "codemirror_mode": {
    "name": "ipython",
    "version": 3
   },
   "file_extension": ".py",
   "mimetype": "text/x-python",
   "name": "python",
   "nbconvert_exporter": "python",
   "pygments_lexer": "ipython3",
   "version": "3.9.6"
  }
 },
 "nbformat": 4,
 "nbformat_minor": 5
}
